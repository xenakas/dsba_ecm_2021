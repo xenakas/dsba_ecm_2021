{
 "cells": [
  {
   "cell_type": "code",
   "execution_count": 1,
   "id": "38b20568",
   "metadata": {
    "ExecuteTime": {
     "end_time": "2022-02-08T10:18:53.617683Z",
     "start_time": "2022-02-08T10:18:53.583Z"
    }
   },
   "outputs": [],
   "source": [
    "library(hexView)"
   ]
  },
  {
   "cell_type": "code",
   "execution_count": 2,
   "id": "1227e8e4",
   "metadata": {
    "ExecuteTime": {
     "end_time": "2022-02-08T10:19:21.329874Z",
     "start_time": "2022-02-08T10:19:21.235Z"
    }
   },
   "outputs": [
    {
     "name": "stderr",
     "output_type": "stream",
     "text": [
      "Warning message in readEViews(\"EXPEND.WF1\"):\n",
      "“Skipping boilerplate variable\n",
      "”\n",
      "Warning message in readEViews(\"EXPEND.WF1\"):\n",
      "“Skipping boilerplate variable\n",
      "”\n"
     ]
    }
   ],
   "source": [
    "data <- readEViews('EXPEND.WF1')"
   ]
  },
  {
   "cell_type": "code",
   "execution_count": 4,
   "id": "c8ccef0f",
   "metadata": {
    "ExecuteTime": {
     "end_time": "2022-02-08T10:20:23.594319Z",
     "start_time": "2022-02-08T10:20:23.581Z"
    }
   },
   "outputs": [],
   "source": [
    "library('dynlm')"
   ]
  },
  {
   "cell_type": "code",
   "execution_count": 5,
   "id": "ff64bd5c",
   "metadata": {
    "ExecuteTime": {
     "end_time": "2022-02-08T10:20:58.838786Z",
     "start_time": "2022-02-08T10:20:58.810Z"
    }
   },
   "outputs": [],
   "source": [
    "c1 <- ts(data['COSM'], frequency = 4, start = 1990)\n",
    "d1 <- ts(data['DPI'], frequency = 4, start = 1990)"
   ]
  },
  {
   "cell_type": "code",
   "execution_count": 7,
   "id": "69f76f38",
   "metadata": {
    "ExecuteTime": {
     "end_time": "2022-02-08T10:21:22.489650Z",
     "start_time": "2022-02-08T10:21:22.461Z"
    }
   },
   "outputs": [],
   "source": [
    "mod1 <- dynlm(c1~d1+L(c1))"
   ]
  },
  {
   "cell_type": "code",
   "execution_count": 8,
   "id": "a71d3a7f",
   "metadata": {
    "ExecuteTime": {
     "end_time": "2022-02-08T10:21:40.136291Z",
     "start_time": "2022-02-08T10:21:40.109Z"
    }
   },
   "outputs": [],
   "source": [
    "library(lmtest)"
   ]
  },
  {
   "cell_type": "code",
   "execution_count": 12,
   "id": "51d28d12",
   "metadata": {
    "ExecuteTime": {
     "end_time": "2022-02-08T10:23:13.920437Z",
     "start_time": "2022-02-08T10:23:13.899Z"
    }
   },
   "outputs": [],
   "source": [
    "r1 <- mod1$residuals"
   ]
  },
  {
   "cell_type": "code",
   "execution_count": 13,
   "id": "b1e9d307",
   "metadata": {
    "ExecuteTime": {
     "end_time": "2022-02-08T10:23:47.021130Z",
     "start_time": "2022-02-08T10:23:46.986Z"
    }
   },
   "outputs": [],
   "source": [
    "mod_aux <- dynlm(r1~d1+L(c1)+L(r1))"
   ]
  },
  {
   "cell_type": "code",
   "execution_count": 18,
   "id": "8c1a273f",
   "metadata": {
    "ExecuteTime": {
     "end_time": "2022-02-08T10:24:33.848127Z",
     "start_time": "2022-02-08T10:24:33.820Z"
    }
   },
   "outputs": [
    {
     "data": {
      "text/html": [
       "3.98087742446278"
      ],
      "text/latex": [
       "3.98087742446278"
      ],
      "text/markdown": [
       "3.98087742446278"
      ],
      "text/plain": [
       "[1] 3.980877"
      ]
     },
     "metadata": {},
     "output_type": "display_data"
    }
   ],
   "source": [
    "summary(mod_aux)$r.squared*24"
   ]
  },
  {
   "cell_type": "code",
   "execution_count": 19,
   "id": "da517304",
   "metadata": {
    "ExecuteTime": {
     "end_time": "2022-02-08T10:25:34.420788Z",
     "start_time": "2022-02-08T10:25:34.401Z"
    }
   },
   "outputs": [
    {
     "data": {
      "text/html": [
       "3.84145882069412"
      ],
      "text/latex": [
       "3.84145882069412"
      ],
      "text/markdown": [
       "3.84145882069412"
      ],
      "text/plain": [
       "[1] 3.841459"
      ]
     },
     "metadata": {},
     "output_type": "display_data"
    }
   ],
   "source": [
    "qchisq(0.95, 1)"
   ]
  },
  {
   "cell_type": "code",
   "execution_count": 9,
   "id": "b9e8cb2c",
   "metadata": {
    "ExecuteTime": {
     "end_time": "2022-02-08T10:21:50.588122Z",
     "start_time": "2022-02-08T10:21:50.562Z"
    }
   },
   "outputs": [
    {
     "data": {
      "text/plain": [
       "\n",
       "\tBreusch-Godfrey test for serial correlation of order up to 1\n",
       "\n",
       "data:  mod1\n",
       "LM test = 3.2477, df = 1, p-value = 0.07152\n"
      ]
     },
     "metadata": {},
     "output_type": "display_data"
    }
   ],
   "source": [
    "bgtest(mod1)"
   ]
  },
  {
   "cell_type": "code",
   "execution_count": 10,
   "id": "67dde697",
   "metadata": {
    "ExecuteTime": {
     "end_time": "2022-02-08T10:22:26.231142Z",
     "start_time": "2022-02-08T10:22:26.216Z"
    }
   },
   "outputs": [
    {
     "data": {
      "text/plain": [
       "\n",
       "\tBreusch-Godfrey test for serial correlation of order up to 2\n",
       "\n",
       "data:  mod1\n",
       "LM test = 7.4641, df = 2, p-value = 0.02394\n"
      ]
     },
     "metadata": {},
     "output_type": "display_data"
    }
   ],
   "source": [
    "bgtest(mod1, order = 2)"
   ]
  },
  {
   "cell_type": "code",
   "execution_count": 21,
   "id": "f58fed51",
   "metadata": {
    "ExecuteTime": {
     "end_time": "2022-02-08T10:38:08.693612Z",
     "start_time": "2022-02-08T10:38:08.675Z"
    }
   },
   "outputs": [
    {
     "data": {
      "text/plain": [
       "\n",
       "\tDurbin-Watson test\n",
       "\n",
       "data:  mod2\n",
       "DW = 0.14512, p-value = 3.227e-15\n",
       "alternative hypothesis: true autocorrelation is greater than 0\n"
      ]
     },
     "metadata": {},
     "output_type": "display_data"
    }
   ],
   "source": [
    "mod2 <- lm(COSM~DPI, data=data)\n",
    "dwtest(mod2)"
   ]
  },
  {
   "cell_type": "code",
   "execution_count": 22,
   "id": "6db858c9",
   "metadata": {
    "ExecuteTime": {
     "end_time": "2022-02-08T10:39:06.072922Z",
     "start_time": "2022-02-08T10:39:06.042Z"
    }
   },
   "outputs": [
    {
     "data": {
      "text/plain": [
       "\n",
       "\tDurbin-Watson test\n",
       "\n",
       "data:  mod2\n",
       "DW = 0.81653, p-value = 5.252e-05\n",
       "alternative hypothesis: true autocorrelation is greater than 0\n"
      ]
     },
     "metadata": {},
     "output_type": "display_data"
    }
   ],
   "source": [
    "mod2 <- lm(COSM~DPI+PRELCOSM, data=data)\n",
    "dwtest(mod2)"
   ]
  },
  {
   "cell_type": "code",
   "execution_count": 23,
   "id": "994d241b",
   "metadata": {
    "ExecuteTime": {
     "end_time": "2022-02-08T10:41:42.374189Z",
     "start_time": "2022-02-08T10:41:42.339Z"
    }
   },
   "outputs": [
    {
     "data": {
      "text/plain": [
       "\n",
       "\tDurbin-Watson test\n",
       "\n",
       "data:  mod2\n",
       "DW = 0.47426, p-value = 2.86e-08\n",
       "alternative hypothesis: true autocorrelation is greater than 0\n"
      ]
     },
     "metadata": {},
     "output_type": "display_data"
    }
   ],
   "source": [
    "mod2 <- lm(log(COSM)~log(DPI)+log(PRELCOSM), data=data)\n",
    "dwtest(mod2)"
   ]
  },
  {
   "cell_type": "code",
   "execution_count": 24,
   "id": "948c30ad",
   "metadata": {
    "ExecuteTime": {
     "end_time": "2022-02-08T10:42:57.998036Z",
     "start_time": "2022-02-08T10:42:57.979Z"
    },
    "scrolled": true
   },
   "outputs": [
    {
     "data": {
      "text/plain": [
       "\n",
       "\tDurbin-Watson test\n",
       "\n",
       "data:  mod2\n",
       "DW = 0.91506, p-value = 0.0001474\n",
       "alternative hypothesis: true autocorrelation is greater than 0\n"
      ]
     },
     "metadata": {},
     "output_type": "display_data"
    }
   ],
   "source": [
    "mod2 <- lm(COSM~DPI+I(DPI^2)+PRELCOSM, data=data)\n",
    "dwtest(mod2)"
   ]
  },
  {
   "cell_type": "code",
   "execution_count": 25,
   "id": "6a879994",
   "metadata": {
    "ExecuteTime": {
     "end_time": "2022-02-08T10:43:26.275081Z",
     "start_time": "2022-02-08T10:43:26.258Z"
    }
   },
   "outputs": [
    {
     "data": {
      "text/plain": [
       "\n",
       "\tDurbin-Watson test\n",
       "\n",
       "data:  mod2\n",
       "DW = 1.1516, p-value = 0.0006682\n",
       "alternative hypothesis: true autocorrelation is greater than 0\n"
      ]
     },
     "metadata": {},
     "output_type": "display_data"
    }
   ],
   "source": [
    "mod2 <- lm(COSM~DPI+I(DPI^2)+I(DPI^3)+PRELCOSM, data=data)\n",
    "dwtest(mod2)"
   ]
  },
  {
   "cell_type": "code",
   "execution_count": 26,
   "id": "12a711f7",
   "metadata": {
    "ExecuteTime": {
     "end_time": "2022-02-08T10:56:20.223207Z",
     "start_time": "2022-02-08T10:56:20.203Z"
    }
   },
   "outputs": [],
   "source": [
    "library('orcutt')"
   ]
  },
  {
   "cell_type": "code",
   "execution_count": 28,
   "id": "ace83eff",
   "metadata": {
    "ExecuteTime": {
     "end_time": "2022-02-08T10:57:10.464733Z",
     "start_time": "2022-02-08T10:57:10.400Z"
    }
   },
   "outputs": [
    {
     "data": {
      "text/plain": [
       "Call:\n",
       "lm(formula = COSM ~ DPI, data = data)\n",
       "\n",
       "             Estimate Std. Error t value  Pr(>|t|)    \n",
       "(Intercept) 3.8507530  1.0670374   3.609 0.0015580 ** \n",
       "DPI         0.0043042  0.0011103   3.877 0.0008144 ***\n",
       "---\n",
       "Signif. codes:  0 ‘***’ 0.001 ‘**’ 0.01 ‘*’ 0.05 ‘.’ 0.1 ‘ ’ 1\n",
       "\n",
       "Residual standard error: 0.1724 on 22 degrees of freedom\n",
       "Multiple R-squared:  0.4059 ,  Adjusted R-squared:  0.3789\n",
       "F-statistic: 15 on 1 and 22 DF,  p-value: < 8.144e-04\n",
       "\n",
       "Durbin-Watson statistic \n",
       "(original):    0.14512 , p-value: 3.227e-15\n",
       "(transformed): 1.08288 , p-value: 4.105e-03"
      ]
     },
     "metadata": {},
     "output_type": "display_data"
    }
   ],
   "source": [
    "mod2 <- lm(COSM~DPI, data=data)\n",
    "# dwtest(mod2)\n",
    "coch <- cochrane.orcutt(mod2) \n",
    "summary(coch)"
   ]
  },
  {
   "cell_type": "code",
   "execution_count": 29,
   "id": "dda78b95",
   "metadata": {
    "ExecuteTime": {
     "end_time": "2022-02-08T11:11:12.106561Z",
     "start_time": "2022-02-08T11:11:12.059Z"
    }
   },
   "outputs": [],
   "source": [
    "library(nlme)"
   ]
  },
  {
   "cell_type": "code",
   "execution_count": 30,
   "id": "48ec6354",
   "metadata": {
    "ExecuteTime": {
     "end_time": "2022-02-08T11:12:46.267029Z",
     "start_time": "2022-02-08T11:12:46.222Z"
    }
   },
   "outputs": [
    {
     "data": {
      "text/plain": [
       "Generalized least squares fit by REML\n",
       "  Model: COSM ~ DPI \n",
       "  Data: data \n",
       "  Log-restricted-likelihood: 2.961004\n",
       "\n",
       "Coefficients:\n",
       "(Intercept)         DPI \n",
       "0.325749718 0.006617202 \n",
       "\n",
       "Correlation Structure: ARMA(1,1)\n",
       " Formula: ~1 \n",
       " Parameter estimate(s):\n",
       "     Phi1    Theta1 \n",
       "0.9987784 0.6795132 \n",
       "Degrees of freedom: 25 total; 23 residual\n",
       "Residual standard error: 5.802508 "
      ]
     },
     "metadata": {},
     "output_type": "display_data"
    }
   ],
   "source": [
    "cs1 = corARMA(form = ~1, p=1, q=1)\n",
    "gls(COSM~DPI, data=data, correlation = cs1)"
   ]
  },
  {
   "cell_type": "code",
   "execution_count": 31,
   "id": "9865e7d2",
   "metadata": {
    "ExecuteTime": {
     "end_time": "2022-02-08T11:20:31.393447Z",
     "start_time": "2022-02-08T11:20:31.370Z"
    }
   },
   "outputs": [],
   "source": [
    "library(nlWaldTest)"
   ]
  },
  {
   "cell_type": "code",
   "execution_count": 33,
   "id": "26ca26da",
   "metadata": {
    "ExecuteTime": {
     "end_time": "2022-02-08T11:21:15.107633Z",
     "start_time": "2022-02-08T11:21:15.077Z"
    }
   },
   "outputs": [
    {
     "data": {
      "text/plain": [
       "\n",
       "Time series regression with \"ts\" data:\n",
       "Start = 1990(2), End = 1996(1)\n",
       "\n",
       "Call:\n",
       "dynlm(formula = c1 ~ d1 + L(d1) + L(c1))\n",
       "\n",
       "Residuals:\n",
       "     Min       1Q   Median       3Q      Max \n",
       "-0.42194 -0.06078  0.03108  0.08068  0.24459 \n",
       "\n",
       "Coefficients:\n",
       "             Estimate Std. Error t value Pr(>|t|)    \n",
       "(Intercept)  0.587813   0.139507   4.214 0.000427 ***\n",
       "d1           0.009543   0.002347   4.066 0.000603 ***\n",
       "L(d1)       -0.009822   0.002353  -4.174 0.000468 ***\n",
       "L(c1)        0.936830   0.062031  15.103 2.12e-12 ***\n",
       "---\n",
       "Signif. codes:  0 ‘***’ 0.001 ‘**’ 0.01 ‘*’ 0.05 ‘.’ 0.1 ‘ ’ 1\n",
       "\n",
       "Residual standard error: 0.15 on 20 degrees of freedom\n",
       "Multiple R-squared:  0.9918,\tAdjusted R-squared:  0.9906 \n",
       "F-statistic: 810.9 on 3 and 20 DF,  p-value: < 2.2e-16\n"
      ]
     },
     "metadata": {},
     "output_type": "display_data"
    }
   ],
   "source": [
    "mod1 <- dynlm(c1~d1+L(d1)+L(c1))\n",
    "summary(mod1)"
   ]
  },
  {
   "cell_type": "code",
   "execution_count": 34,
   "id": "4ba02f34",
   "metadata": {
    "ExecuteTime": {
     "end_time": "2022-02-08T11:22:20.272533Z",
     "start_time": "2022-02-08T11:22:20.254Z"
    }
   },
   "outputs": [
    {
     "data": {
      "text/plain": [
       "\n",
       "\tWald Chi-square test of a restriction on model parameters\n",
       "\n",
       "data:  mod1\n",
       "Chisq = 13.162, df = 1, p-value = 0.0002856\n"
      ]
     },
     "metadata": {},
     "output_type": "display_data"
    }
   ],
   "source": [
    "nlWaldtest(mod1, \"b[3]=-b[2]*b[4]\")"
   ]
  }
 ],
 "metadata": {
  "hide_input": false,
  "kernelspec": {
   "display_name": "R 4.0.2",
   "language": "R",
   "name": "ir"
  },
  "language_info": {
   "codemirror_mode": "r",
   "file_extension": ".r",
   "mimetype": "text/x-r-source",
   "name": "R",
   "pygments_lexer": "r",
   "version": "4.0.4"
  },
  "latex_envs": {
   "LaTeX_envs_menu_present": true,
   "autoclose": true,
   "autocomplete": true,
   "bibliofile": "biblio.bib",
   "cite_by": "apalike",
   "current_citInitial": 1,
   "eqLabelWithNumbers": true,
   "eqNumInitial": 1,
   "hotkeys": {
    "equation": "Ctrl-E",
    "itemize": "Ctrl-I"
   },
   "labels_anchors": false,
   "latex_user_defs": false,
   "report_style_numbering": false,
   "user_envs_cfg": false
  },
  "toc": {
   "base_numbering": 1,
   "nav_menu": {},
   "number_sections": true,
   "sideBar": true,
   "skip_h1_title": false,
   "title_cell": "Table of Contents",
   "title_sidebar": "Contents",
   "toc_cell": false,
   "toc_position": {},
   "toc_section_display": true,
   "toc_window_display": false
  },
  "varInspector": {
   "cols": {
    "lenName": 16,
    "lenType": 16,
    "lenVar": 40
   },
   "kernels_config": {
    "python": {
     "delete_cmd_postfix": "",
     "delete_cmd_prefix": "del ",
     "library": "var_list.py",
     "varRefreshCmd": "print(var_dic_list())"
    },
    "r": {
     "delete_cmd_postfix": ") ",
     "delete_cmd_prefix": "rm(",
     "library": "var_list.r",
     "varRefreshCmd": "cat(var_dic_list()) "
    }
   },
   "types_to_exclude": [
    "module",
    "function",
    "builtin_function_or_method",
    "instance",
    "_Feature"
   ],
   "window_display": false
  }
 },
 "nbformat": 4,
 "nbformat_minor": 5
}
