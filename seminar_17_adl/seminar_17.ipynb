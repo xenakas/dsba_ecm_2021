{
 "cells": [
  {
   "cell_type": "code",
   "execution_count": 4,
   "id": "4e322971",
   "metadata": {
    "ExecuteTime": {
     "end_time": "2022-01-23T05:27:22.591964Z",
     "start_time": "2022-01-23T05:27:22.210Z"
    }
   },
   "outputs": [
    {
     "name": "stderr",
     "output_type": "stream",
     "text": [
      "Warning message in readEViews(\"EXPEND.WF1\"):\n",
      "“Skipping boilerplate variable\n",
      "”\n",
      "Warning message in readEViews(\"EXPEND.WF1\"):\n",
      "“Skipping boilerplate variable\n",
      "”\n"
     ]
    }
   ],
   "source": [
    "library(hexView)\n",
    "\n",
    "data <- readEViews('EXPEND.WF1')"
   ]
  },
  {
   "cell_type": "code",
   "execution_count": 5,
   "id": "0998338b",
   "metadata": {
    "ExecuteTime": {
     "end_time": "2022-01-23T05:27:22.811611Z",
     "start_time": "2022-01-23T05:27:22.421Z"
    }
   },
   "outputs": [],
   "source": [
    "# data"
   ]
  },
  {
   "cell_type": "code",
   "execution_count": 6,
   "id": "c854c675",
   "metadata": {
    "ExecuteTime": {
     "end_time": "2022-01-23T05:27:23.065212Z",
     "start_time": "2022-01-23T05:27:22.741Z"
    }
   },
   "outputs": [
    {
     "data": {
      "text/plain": [
       "\n",
       "Call:\n",
       "lm(formula = CLOT ~ DPI, data = data)\n",
       "\n",
       "Residuals:\n",
       "    Min      1Q  Median      3Q     Max \n",
       "-5.0797 -3.0395  0.4952  2.4740  6.6409 \n",
       "\n",
       "Coefficients:\n",
       "             Estimate Std. Error t value Pr(>|t|)    \n",
       "(Intercept) -5.375650   2.836332  -1.895   0.0707 .  \n",
       "DPI          0.079637   0.003528  22.576   <2e-16 ***\n",
       "---\n",
       "Signif. codes:  0 ‘***’ 0.001 ‘**’ 0.01 ‘*’ 0.05 ‘.’ 0.1 ‘ ’ 1\n",
       "\n",
       "Residual standard error: 3.44 on 23 degrees of freedom\n",
       "Multiple R-squared:  0.9568,\tAdjusted R-squared:  0.9549 \n",
       "F-statistic: 509.7 on 1 and 23 DF,  p-value: < 2.2e-16\n"
      ]
     },
     "metadata": {},
     "output_type": "display_data"
    }
   ],
   "source": [
    "summary(lm(CLOT~DPI, data=data))"
   ]
  },
  {
   "cell_type": "code",
   "execution_count": 7,
   "id": "064893c7",
   "metadata": {
    "ExecuteTime": {
     "end_time": "2022-01-23T05:27:23.315310Z",
     "start_time": "2022-01-23T05:27:22.993Z"
    }
   },
   "outputs": [],
   "source": [
    "c1 <- ts(data['CLOT'], frequency = 4, start=c(1990,1))\n",
    "h1 <- ts(data['HOUS'], frequency = 4, start=c(1990,1))\n",
    "d1 <- ts(data['DPI'], frequency = 4, start=c(1990,1))"
   ]
  },
  {
   "cell_type": "code",
   "execution_count": 8,
   "id": "6241a93f",
   "metadata": {
    "ExecuteTime": {
     "end_time": "2022-01-23T05:27:24.519473Z",
     "start_time": "2022-01-23T05:27:23.407Z"
    }
   },
   "outputs": [
    {
     "name": "stderr",
     "output_type": "stream",
     "text": [
      "Loading required package: zoo\n",
      "\n",
      "\n",
      "Attaching package: ‘zoo’\n",
      "\n",
      "\n",
      "The following objects are masked from ‘package:base’:\n",
      "\n",
      "    as.Date, as.Date.numeric\n",
      "\n",
      "\n"
     ]
    }
   ],
   "source": [
    "library(\"dynlm\")"
   ]
  },
  {
   "cell_type": "code",
   "execution_count": 9,
   "id": "3c0f0fd5",
   "metadata": {
    "ExecuteTime": {
     "end_time": "2022-01-23T05:27:24.869380Z",
     "start_time": "2022-01-23T05:27:24.320Z"
    }
   },
   "outputs": [
    {
     "data": {
      "text/plain": [
       "\n",
       "Time series regression with \"ts\" data:\n",
       "Start = 1990(2), End = 1996(1)\n",
       "\n",
       "Call:\n",
       "dynlm(formula = c1 ~ d1 + L(c1, 1))\n",
       "\n",
       "Residuals:\n",
       "    Min      1Q  Median      3Q     Max \n",
       "-3.2129 -0.7788  0.0958  0.8137  2.6794 \n",
       "\n",
       "Coefficients:\n",
       "             Estimate Std. Error t value Pr(>|t|)    \n",
       "(Intercept) -2.095370   1.364464  -1.536   0.1395    \n",
       "d1           0.013387   0.006961   1.923   0.0681 .  \n",
       "L(c1, 1)     0.885611   0.088915   9.960 2.08e-09 ***\n",
       "---\n",
       "Signif. codes:  0 ‘***’ 0.001 ‘**’ 0.01 ‘*’ 0.05 ‘.’ 0.1 ‘ ’ 1\n",
       "\n",
       "Residual standard error: 1.466 on 21 degrees of freedom\n",
       "Multiple R-squared:  0.9923,\tAdjusted R-squared:  0.9916 \n",
       "F-statistic:  1355 on 2 and 21 DF,  p-value: < 2.2e-16\n"
      ]
     },
     "metadata": {},
     "output_type": "display_data"
    }
   ],
   "source": [
    "summary(dynlm(c1~d1+L(c1,1)))"
   ]
  },
  {
   "cell_type": "code",
   "execution_count": 10,
   "id": "32d5c65e",
   "metadata": {
    "ExecuteTime": {
     "end_time": "2022-01-23T05:27:25.217595Z",
     "start_time": "2022-01-23T05:27:25.147Z"
    }
   },
   "outputs": [
    {
     "data": {
      "text/plain": [
       "\n",
       "Time series regression with \"ts\" data:\n",
       "Start = 1990(2), End = 1996(1)\n",
       "\n",
       "Call:\n",
       "dynlm(formula = h1 ~ d1 + L(h1, 1))\n",
       "\n",
       "Residuals:\n",
       "    Min      1Q  Median      3Q     Max \n",
       "-1.5992 -0.7073  0.1632  0.5990  1.5120 \n",
       "\n",
       "Coefficients:\n",
       "             Estimate Std. Error t value Pr(>|t|)    \n",
       "(Intercept) -2.634296   1.471592  -1.790 0.087868 .  \n",
       "d1           0.029204   0.007269   4.018 0.000623 ***\n",
       "L(h1, 1)     0.854534   0.040887  20.900 1.55e-15 ***\n",
       "---\n",
       "Signif. codes:  0 ‘***’ 0.001 ‘**’ 0.01 ‘*’ 0.05 ‘.’ 0.1 ‘ ’ 1\n",
       "\n",
       "Residual standard error: 0.907 on 21 degrees of freedom\n",
       "Multiple R-squared:  0.9994,\tAdjusted R-squared:  0.9993 \n",
       "F-statistic: 1.705e+04 on 2 and 21 DF,  p-value: < 2.2e-16\n"
      ]
     },
     "metadata": {},
     "output_type": "display_data"
    }
   ],
   "source": [
    "summary(dynlm(h1~d1+L(h1,1)))"
   ]
  },
  {
   "cell_type": "code",
   "execution_count": null,
   "id": "7963625c",
   "metadata": {},
   "outputs": [],
   "source": []
  }
 ],
 "metadata": {
  "hide_input": false,
  "kernelspec": {
   "display_name": "R 4.0.2",
   "language": "R",
   "name": "ir"
  },
  "language_info": {
   "codemirror_mode": "r",
   "file_extension": ".r",
   "mimetype": "text/x-r-source",
   "name": "R",
   "pygments_lexer": "r",
   "version": "4.0.4"
  },
  "latex_envs": {
   "LaTeX_envs_menu_present": true,
   "autoclose": true,
   "autocomplete": true,
   "bibliofile": "biblio.bib",
   "cite_by": "apalike",
   "current_citInitial": 1,
   "eqLabelWithNumbers": true,
   "eqNumInitial": 1,
   "hotkeys": {
    "equation": "Ctrl-E",
    "itemize": "Ctrl-I"
   },
   "labels_anchors": false,
   "latex_user_defs": false,
   "report_style_numbering": false,
   "user_envs_cfg": false
  },
  "toc": {
   "base_numbering": 1,
   "nav_menu": {},
   "number_sections": true,
   "sideBar": true,
   "skip_h1_title": false,
   "title_cell": "Table of Contents",
   "title_sidebar": "Contents",
   "toc_cell": false,
   "toc_position": {},
   "toc_section_display": true,
   "toc_window_display": false
  },
  "varInspector": {
   "cols": {
    "lenName": 16,
    "lenType": 16,
    "lenVar": 40
   },
   "kernels_config": {
    "python": {
     "delete_cmd_postfix": "",
     "delete_cmd_prefix": "del ",
     "library": "var_list.py",
     "varRefreshCmd": "print(var_dic_list())"
    },
    "r": {
     "delete_cmd_postfix": ") ",
     "delete_cmd_prefix": "rm(",
     "library": "var_list.r",
     "varRefreshCmd": "cat(var_dic_list()) "
    }
   },
   "types_to_exclude": [
    "module",
    "function",
    "builtin_function_or_method",
    "instance",
    "_Feature"
   ],
   "window_display": false
  }
 },
 "nbformat": 4,
 "nbformat_minor": 5
}
