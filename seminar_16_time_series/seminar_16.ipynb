{
 "cells": [
  {
   "cell_type": "code",
   "execution_count": 1,
   "id": "123fd314",
   "metadata": {
    "ExecuteTime": {
     "end_time": "2022-01-18T11:51:13.107028Z",
     "start_time": "2022-01-18T11:51:13.089Z"
    }
   },
   "outputs": [],
   "source": [
    "library(hexView)"
   ]
  },
  {
   "cell_type": "code",
   "execution_count": 2,
   "id": "21121d6b",
   "metadata": {
    "ExecuteTime": {
     "end_time": "2022-01-18T11:51:33.114951Z",
     "start_time": "2022-01-18T11:51:33.018Z"
    }
   },
   "outputs": [
    {
     "name": "stderr",
     "output_type": "stream",
     "text": [
      "Warning message in readEViews(\"EXPEND.WF1\"):\n",
      "“Skipping boilerplate variable\n",
      "”\n",
      "Warning message in readEViews(\"EXPEND.WF1\"):\n",
      "“Skipping boilerplate variable\n",
      "”\n"
     ]
    }
   ],
   "source": [
    "data <- readEViews('EXPEND.WF1')"
   ]
  },
  {
   "cell_type": "code",
   "execution_count": 3,
   "id": "a0bc11fc",
   "metadata": {
    "ExecuteTime": {
     "end_time": "2022-01-18T11:52:25.032026Z",
     "start_time": "2022-01-18T11:52:24.991Z"
    }
   },
   "outputs": [
    {
     "data": {
      "text/plain": [
       "\n",
       "Call:\n",
       "lm(formula = HOUS ~ DPI, data = data)\n",
       "\n",
       "Residuals:\n",
       "   Min     1Q Median     3Q    Max \n",
       "-8.897 -3.172  0.332  4.040  5.905 \n",
       "\n",
       "Coefficients:\n",
       "              Estimate Std. Error t value Pr(>|t|)    \n",
       "(Intercept) -27.571737   3.373796  -8.172 2.97e-08 ***\n",
       "DPI           0.178746   0.004196  42.599  < 2e-16 ***\n",
       "---\n",
       "Signif. codes:  0 ‘***’ 0.001 ‘**’ 0.01 ‘*’ 0.05 ‘.’ 0.1 ‘ ’ 1\n",
       "\n",
       "Residual standard error: 4.092 on 23 degrees of freedom\n",
       "Multiple R-squared:  0.9875,\tAdjusted R-squared:  0.9869 \n",
       "F-statistic:  1815 on 1 and 23 DF,  p-value: < 2.2e-16\n"
      ]
     },
     "metadata": {},
     "output_type": "display_data"
    }
   ],
   "source": [
    "summary(lm(HOUS~DPI, data=data))"
   ]
  },
  {
   "cell_type": "code",
   "execution_count": 5,
   "id": "fcea795b",
   "metadata": {
    "ExecuteTime": {
     "end_time": "2022-01-18T11:53:56.083291Z",
     "start_time": "2022-01-18T11:53:56.053Z"
    }
   },
   "outputs": [
    {
     "data": {
      "text/plain": [
       "\n",
       "Call:\n",
       "lm(formula = HOUS ~ DPI + lag(DPI), data = data)\n",
       "\n",
       "Residuals:\n",
       "   Min     1Q Median     3Q    Max \n",
       "-8.897 -3.172  0.332  4.040  5.905 \n",
       "\n",
       "Coefficients: (1 not defined because of singularities)\n",
       "              Estimate Std. Error t value Pr(>|t|)    \n",
       "(Intercept) -27.571737   3.373796  -8.172 2.97e-08 ***\n",
       "DPI           0.178746   0.004196  42.599  < 2e-16 ***\n",
       "lag(DPI)            NA         NA      NA       NA    \n",
       "---\n",
       "Signif. codes:  0 ‘***’ 0.001 ‘**’ 0.01 ‘*’ 0.05 ‘.’ 0.1 ‘ ’ 1\n",
       "\n",
       "Residual standard error: 4.092 on 23 degrees of freedom\n",
       "Multiple R-squared:  0.9875,\tAdjusted R-squared:  0.9869 \n",
       "F-statistic:  1815 on 1 and 23 DF,  p-value: < 2.2e-16\n"
      ]
     },
     "metadata": {},
     "output_type": "display_data"
    }
   ],
   "source": [
    "summary(lm(HOUS~DPI+lag(DPI), data=data))"
   ]
  },
  {
   "cell_type": "code",
   "execution_count": 8,
   "id": "1e293df9",
   "metadata": {
    "ExecuteTime": {
     "end_time": "2022-01-18T11:55:43.923593Z",
     "start_time": "2022-01-18T11:55:43.891Z"
    }
   },
   "outputs": [],
   "source": [
    "h1 <- ts(data['HOUS'], frequency = 4, start=c(1990,1))\n",
    "d1 <- ts(data['DPI'], frequency = 4, start=c(1990,1))"
   ]
  },
  {
   "cell_type": "code",
   "execution_count": 10,
   "id": "62374f7c",
   "metadata": {
    "ExecuteTime": {
     "end_time": "2022-01-18T11:56:01.050049Z",
     "start_time": "2022-01-18T11:56:01.017Z"
    }
   },
   "outputs": [],
   "source": [
    "library('dynlm')"
   ]
  },
  {
   "cell_type": "code",
   "execution_count": 13,
   "id": "6aa6286b",
   "metadata": {
    "ExecuteTime": {
     "end_time": "2022-01-18T11:58:11.131161Z",
     "start_time": "2022-01-18T11:58:11.087Z"
    }
   },
   "outputs": [
    {
     "data": {
      "text/plain": [
       "\n",
       "Time series regression with \"ts\" data:\n",
       "Start = 1990(2), End = 1996(1)\n",
       "\n",
       "Call:\n",
       "dynlm(formula = h1 ~ d1 + L(d1, 1))\n",
       "\n",
       "Residuals:\n",
       "    Min      1Q  Median      3Q     Max \n",
       "-6.4223 -3.5807  0.9818  3.1626  4.6685 \n",
       "\n",
       "Coefficients:\n",
       "             Estimate Std. Error t value Pr(>|t|)    \n",
       "(Intercept) -25.67396    3.45641  -7.428 2.65e-07 ***\n",
       "d1            0.03563    0.05771   0.618   0.5435    \n",
       "L(d1, 1)      0.14528    0.05803   2.503   0.0206 *  \n",
       "---\n",
       "Signif. codes:  0 ‘***’ 0.001 ‘**’ 0.01 ‘*’ 0.05 ‘.’ 0.1 ‘ ’ 1\n",
       "\n",
       "Residual standard error: 3.716 on 21 degrees of freedom\n",
       "Multiple R-squared:  0.9897,\tAdjusted R-squared:  0.9887 \n",
       "F-statistic:  1006 on 2 and 21 DF,  p-value: < 2.2e-16\n"
      ]
     },
     "metadata": {},
     "output_type": "display_data"
    }
   ],
   "source": [
    "summary(dynlm(h1~d1+L(d1,1)))"
   ]
  },
  {
   "cell_type": "code",
   "execution_count": 18,
   "id": "32250cf2",
   "metadata": {
    "ExecuteTime": {
     "end_time": "2022-01-18T12:00:43.586442Z",
     "start_time": "2022-01-18T12:00:43.554Z"
    }
   },
   "outputs": [
    {
     "data": {
      "text/html": [
       "<style>\n",
       ".list-inline {list-style: none; margin:0; padding: 0}\n",
       ".list-inline>li {display: inline-block}\n",
       ".list-inline>li:not(:last-child)::after {content: \"\\00b7\"; padding: 0 .5ex}\n",
       "</style>\n",
       "<ol class=list-inline><li>25</li><li>67</li></ol>\n"
      ],
      "text/latex": [
       "\\begin{enumerate*}\n",
       "\\item 25\n",
       "\\item 67\n",
       "\\end{enumerate*}\n"
      ],
      "text/markdown": [
       "1. 25\n",
       "2. 67\n",
       "\n",
       "\n"
      ],
      "text/plain": [
       "[1] 25 67"
      ]
     },
     "metadata": {},
     "output_type": "display_data"
    }
   ],
   "source": [
    "dim(data)"
   ]
  },
  {
   "cell_type": "code",
   "execution_count": 14,
   "id": "a667941d",
   "metadata": {
    "ExecuteTime": {
     "end_time": "2022-01-18T11:58:39.641804Z",
     "start_time": "2022-01-18T11:58:39.593Z"
    }
   },
   "outputs": [
    {
     "data": {
      "text/plain": [
       "\n",
       "Time series regression with \"ts\" data:\n",
       "Start = 1990(4), End = 1996(1)\n",
       "\n",
       "Call:\n",
       "dynlm(formula = h1 ~ d1 + L(d1, 1) + L(d1, 2) + L(d1, 3))\n",
       "\n",
       "Residuals:\n",
       "   Min     1Q Median     3Q    Max \n",
       "-4.593 -2.595  0.812  2.854  3.719 \n",
       "\n",
       "Coefficients:\n",
       "              Estimate Std. Error t value Pr(>|t|)    \n",
       "(Intercept) -23.698788   4.196254  -5.648 2.89e-05 ***\n",
       "d1            0.041250   0.054211   0.761   0.4571    \n",
       "L(d1, 1)      0.036869   0.071478   0.516   0.6126    \n",
       "L(d1, 2)      0.002094   0.075369   0.028   0.9782    \n",
       "L(d1, 3)      0.104558   0.054182   1.930   0.0705 .  \n",
       "---\n",
       "Signif. codes:  0 ‘***’ 0.001 ‘**’ 0.01 ‘*’ 0.05 ‘.’ 0.1 ‘ ’ 1\n",
       "\n",
       "Residual standard error: 3.258 on 17 degrees of freedom\n",
       "Multiple R-squared:  0.9921,\tAdjusted R-squared:  0.9903 \n",
       "F-statistic:   536 on 4 and 17 DF,  p-value: < 2.2e-16\n"
      ]
     },
     "metadata": {},
     "output_type": "display_data"
    }
   ],
   "source": [
    "summary(dynlm(h1~d1+L(d1,1)+L(d1,2)+L(d1,3)))"
   ]
  },
  {
   "cell_type": "code",
   "execution_count": 19,
   "id": "f307c651",
   "metadata": {
    "ExecuteTime": {
     "end_time": "2022-01-18T12:01:42.255426Z",
     "start_time": "2022-01-18T12:01:42.201Z"
    }
   },
   "outputs": [
    {
     "data": {
      "text/plain": [
       "\n",
       "Time series regression with \"ts\" data:\n",
       "Start = 1992(3), End = 1996(1)\n",
       "\n",
       "Call:\n",
       "dynlm(formula = h1 ~ d1 + L(d1, 1) + L(d1, 2) + L(d1, 10))\n",
       "\n",
       "Residuals:\n",
       "    Min      1Q  Median      3Q     Max \n",
       "-2.5567 -0.6465  0.1302  0.8847  1.5968 \n",
       "\n",
       "Coefficients:\n",
       "             Estimate Std. Error t value Pr(>|t|)    \n",
       "(Intercept) -36.73107    6.18439  -5.939 0.000143 ***\n",
       "d1            0.06610    0.02562   2.580 0.027413 *  \n",
       "L(d1, 1)      0.07144    0.03160   2.261 0.047303 *  \n",
       "L(d1, 2)      0.01759    0.03016   0.583 0.572633    \n",
       "L(d1, 10)     0.05099    0.02181   2.338 0.041510 *  \n",
       "---\n",
       "Signif. codes:  0 ‘***’ 0.001 ‘**’ 0.01 ‘*’ 0.05 ‘.’ 0.1 ‘ ’ 1\n",
       "\n",
       "Residual standard error: 1.387 on 10 degrees of freedom\n",
       "Multiple R-squared:  0.9978,\tAdjusted R-squared:  0.9969 \n",
       "F-statistic:  1126 on 4 and 10 DF,  p-value: 3.201e-13\n"
      ]
     },
     "metadata": {},
     "output_type": "display_data"
    }
   ],
   "source": [
    "summary(dynlm(h1~d1+L(d1,1)+L(d1,2)+L(d1,10)))"
   ]
  },
  {
   "cell_type": "code",
   "execution_count": 20,
   "id": "fad8211c",
   "metadata": {
    "ExecuteTime": {
     "end_time": "2022-01-18T12:34:32.065547Z",
     "start_time": "2022-01-18T12:34:32.040Z"
    }
   },
   "outputs": [
    {
     "data": {
      "text/plain": [
       "\n",
       "Time series regression with \"ts\" data:\n",
       "Start = 1990(2), End = 1996(1)\n",
       "\n",
       "Call:\n",
       "dynlm(formula = h1 ~ d1 + L(h1, 1))\n",
       "\n",
       "Residuals:\n",
       "    Min      1Q  Median      3Q     Max \n",
       "-1.5992 -0.7073  0.1632  0.5990  1.5120 \n",
       "\n",
       "Coefficients:\n",
       "             Estimate Std. Error t value Pr(>|t|)    \n",
       "(Intercept) -2.634296   1.471592  -1.790 0.087868 .  \n",
       "d1           0.029204   0.007269   4.018 0.000623 ***\n",
       "L(h1, 1)     0.854534   0.040887  20.900 1.55e-15 ***\n",
       "---\n",
       "Signif. codes:  0 ‘***’ 0.001 ‘**’ 0.01 ‘*’ 0.05 ‘.’ 0.1 ‘ ’ 1\n",
       "\n",
       "Residual standard error: 0.907 on 21 degrees of freedom\n",
       "Multiple R-squared:  0.9994,\tAdjusted R-squared:  0.9993 \n",
       "F-statistic: 1.705e+04 on 2 and 21 DF,  p-value: < 2.2e-16\n"
      ]
     },
     "metadata": {},
     "output_type": "display_data"
    }
   ],
   "source": [
    "summary(dynlm(h1~d1+L(h1,1)))"
   ]
  },
  {
   "cell_type": "code",
   "execution_count": 21,
   "id": "ffd1a838",
   "metadata": {
    "ExecuteTime": {
     "end_time": "2022-01-18T12:42:56.962339Z",
     "start_time": "2022-01-18T12:42:56.931Z"
    }
   },
   "outputs": [
    {
     "data": {
      "text/html": [
       "0.200761690016911"
      ],
      "text/latex": [
       "0.200761690016911"
      ],
      "text/markdown": [
       "0.200761690016911"
      ],
      "text/plain": [
       "[1] 0.2007617"
      ]
     },
     "metadata": {},
     "output_type": "display_data"
    }
   ],
   "source": [
    "0.029204/(1-0.854534)"
   ]
  }
 ],
 "metadata": {
  "hide_input": false,
  "kernelspec": {
   "display_name": "R 4.0.2",
   "language": "R",
   "name": "ir"
  },
  "language_info": {
   "codemirror_mode": "r",
   "file_extension": ".r",
   "mimetype": "text/x-r-source",
   "name": "R",
   "pygments_lexer": "r",
   "version": "4.0.4"
  },
  "latex_envs": {
   "LaTeX_envs_menu_present": true,
   "autoclose": true,
   "autocomplete": true,
   "bibliofile": "biblio.bib",
   "cite_by": "apalike",
   "current_citInitial": 1,
   "eqLabelWithNumbers": true,
   "eqNumInitial": 1,
   "hotkeys": {
    "equation": "Ctrl-E",
    "itemize": "Ctrl-I"
   },
   "labels_anchors": false,
   "latex_user_defs": false,
   "report_style_numbering": false,
   "user_envs_cfg": false
  },
  "toc": {
   "base_numbering": 1,
   "nav_menu": {},
   "number_sections": true,
   "sideBar": true,
   "skip_h1_title": false,
   "title_cell": "Table of Contents",
   "title_sidebar": "Contents",
   "toc_cell": false,
   "toc_position": {},
   "toc_section_display": true,
   "toc_window_display": false
  },
  "varInspector": {
   "cols": {
    "lenName": 16,
    "lenType": 16,
    "lenVar": 40
   },
   "kernels_config": {
    "python": {
     "delete_cmd_postfix": "",
     "delete_cmd_prefix": "del ",
     "library": "var_list.py",
     "varRefreshCmd": "print(var_dic_list())"
    },
    "r": {
     "delete_cmd_postfix": ") ",
     "delete_cmd_prefix": "rm(",
     "library": "var_list.r",
     "varRefreshCmd": "cat(var_dic_list()) "
    }
   },
   "types_to_exclude": [
    "module",
    "function",
    "builtin_function_or_method",
    "instance",
    "_Feature"
   ],
   "window_display": false
  }
 },
 "nbformat": 4,
 "nbformat_minor": 5
}
