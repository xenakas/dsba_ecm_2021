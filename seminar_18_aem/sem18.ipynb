{
 "cells": [
  {
   "cell_type": "code",
   "execution_count": 1,
   "id": "09a6d141",
   "metadata": {
    "ExecuteTime": {
     "end_time": "2022-01-25T11:04:30.479372Z",
     "start_time": "2022-01-25T11:04:30.454Z"
    }
   },
   "outputs": [],
   "source": [
    "library(hexView)"
   ]
  },
  {
   "cell_type": "code",
   "execution_count": 2,
   "id": "176325c4",
   "metadata": {
    "ExecuteTime": {
     "end_time": "2022-01-25T11:04:50.535122Z",
     "start_time": "2022-01-25T11:04:50.446Z"
    }
   },
   "outputs": [
    {
     "name": "stderr",
     "output_type": "stream",
     "text": [
      "Warning message in readEViews(\"EXPEND.WF1\"):\n",
      "“Skipping boilerplate variable\n",
      "”\n",
      "Warning message in readEViews(\"EXPEND.WF1\"):\n",
      "“Skipping boilerplate variable\n",
      "”\n"
     ]
    }
   ],
   "source": [
    "data <- readEViews('EXPEND.WF1')"
   ]
  },
  {
   "cell_type": "code",
   "execution_count": 3,
   "id": "0d2ed19a",
   "metadata": {
    "ExecuteTime": {
     "end_time": "2022-01-25T11:05:06.863952Z",
     "start_time": "2022-01-25T11:05:06.491Z"
    }
   },
   "outputs": [
    {
     "name": "stderr",
     "output_type": "stream",
     "text": [
      "Loading required package: zoo\n",
      "\n",
      "\n",
      "Attaching package: ‘zoo’\n",
      "\n",
      "\n",
      "The following objects are masked from ‘package:base’:\n",
      "\n",
      "    as.Date, as.Date.numeric\n",
      "\n",
      "\n"
     ]
    }
   ],
   "source": [
    "library('dynlm')"
   ]
  },
  {
   "cell_type": "code",
   "execution_count": 4,
   "id": "2d261039",
   "metadata": {
    "ExecuteTime": {
     "end_time": "2022-01-25T11:05:49.617476Z",
     "start_time": "2022-01-25T11:05:49.594Z"
    }
   },
   "outputs": [],
   "source": [
    "h1 <- ts(data['HOUS'], frequency = 4, start=1990)\n",
    "d1 <- ts(data['DPI'], frequency = 4, start=1990)"
   ]
  },
  {
   "cell_type": "code",
   "execution_count": 6,
   "id": "0c18761b",
   "metadata": {
    "ExecuteTime": {
     "end_time": "2022-01-25T11:06:44.293064Z",
     "start_time": "2022-01-25T11:06:44.262Z"
    }
   },
   "outputs": [
    {
     "data": {
      "text/plain": [
       "\n",
       "Time series regression with \"ts\" data:\n",
       "Start = 1990(2), End = 1996(1)\n",
       "\n",
       "Call:\n",
       "dynlm(formula = h1 ~ d1 + L(h1, 1))\n",
       "\n",
       "Residuals:\n",
       "    Min      1Q  Median      3Q     Max \n",
       "-1.5992 -0.7073  0.1632  0.5990  1.5120 \n",
       "\n",
       "Coefficients:\n",
       "             Estimate Std. Error t value Pr(>|t|)    \n",
       "(Intercept) -2.634296   1.471592  -1.790 0.087868 .  \n",
       "d1           0.029204   0.007269   4.018 0.000623 ***\n",
       "L(h1, 1)     0.854534   0.040887  20.900 1.55e-15 ***\n",
       "---\n",
       "Signif. codes:  0 ‘***’ 0.001 ‘**’ 0.01 ‘*’ 0.05 ‘.’ 0.1 ‘ ’ 1\n",
       "\n",
       "Residual standard error: 0.907 on 21 degrees of freedom\n",
       "Multiple R-squared:  0.9994,\tAdjusted R-squared:  0.9993 \n",
       "F-statistic: 1.705e+04 on 2 and 21 DF,  p-value: < 2.2e-16\n"
      ]
     },
     "metadata": {},
     "output_type": "display_data"
    }
   ],
   "source": [
    "summary(dynlm(h1~d1+L(h1,1)))"
   ]
  }
 ],
 "metadata": {
  "hide_input": false,
  "kernelspec": {
   "display_name": "R 4.0.2",
   "language": "R",
   "name": "ir"
  },
  "language_info": {
   "codemirror_mode": "r",
   "file_extension": ".r",
   "mimetype": "text/x-r-source",
   "name": "R",
   "pygments_lexer": "r",
   "version": "4.0.4"
  },
  "latex_envs": {
   "LaTeX_envs_menu_present": true,
   "autoclose": true,
   "autocomplete": true,
   "bibliofile": "biblio.bib",
   "cite_by": "apalike",
   "current_citInitial": 1,
   "eqLabelWithNumbers": true,
   "eqNumInitial": 1,
   "hotkeys": {
    "equation": "Ctrl-E",
    "itemize": "Ctrl-I"
   },
   "labels_anchors": false,
   "latex_user_defs": false,
   "report_style_numbering": false,
   "user_envs_cfg": false
  },
  "toc": {
   "base_numbering": 1,
   "nav_menu": {},
   "number_sections": true,
   "sideBar": true,
   "skip_h1_title": false,
   "title_cell": "Table of Contents",
   "title_sidebar": "Contents",
   "toc_cell": false,
   "toc_position": {},
   "toc_section_display": true,
   "toc_window_display": false
  },
  "varInspector": {
   "cols": {
    "lenName": 16,
    "lenType": 16,
    "lenVar": 40
   },
   "kernels_config": {
    "python": {
     "delete_cmd_postfix": "",
     "delete_cmd_prefix": "del ",
     "library": "var_list.py",
     "varRefreshCmd": "print(var_dic_list())"
    },
    "r": {
     "delete_cmd_postfix": ") ",
     "delete_cmd_prefix": "rm(",
     "library": "var_list.r",
     "varRefreshCmd": "cat(var_dic_list()) "
    }
   },
   "types_to_exclude": [
    "module",
    "function",
    "builtin_function_or_method",
    "instance",
    "_Feature"
   ],
   "window_display": false
  }
 },
 "nbformat": 4,
 "nbformat_minor": 5
}
